{
 "cells": [
  {
   "cell_type": "markdown",
   "metadata": {},
   "source": [
    "## List Comprehension\n",
    "um modo conciso de criar listas em Python, mais compacto e fácil de ler que os loops tradicionais\n",
    "```python\n",
    "expression for value in iterable if condicion"
   ]
  },
  {
   "cell_type": "code",
   "execution_count": 3,
   "metadata": {},
   "outputs": [
    {
     "name": "stdout",
     "output_type": "stream",
     "text": [
      "[2, 4, 6, 8, 10, 12, 14, 16, 18, 20]\n"
     ]
    }
   ],
   "source": [
    "doubles = []\n",
    "\n",
    "for x in range(1,11):\n",
    "    doubles.append(2 * x)\n",
    "print(doubles)"
   ]
  },
  {
   "cell_type": "code",
   "execution_count": 7,
   "metadata": {},
   "outputs": [
    {
     "name": "stdout",
     "output_type": "stream",
     "text": [
      "[2, 4, 6, 8, 10, 12, 14, 16, 18, 20]\n",
      "[6, 12, 18, 24, 30, 36, 42, 48, 54, 60]\n",
      "[4, 16, 36, 64, 100, 144, 196, 256, 324, 400]\n"
     ]
    }
   ],
   "source": [
    "doubles = [2 * x for x in range(1,11)]\n",
    "times_6 = [3 * x for x in doubles]\n",
    "squared = [x ** 2 for x in doubles]\n",
    "print(doubles, times_6, squared, sep='\\n')"
   ]
  },
  {
   "cell_type": "code",
   "execution_count": 9,
   "metadata": {},
   "outputs": [
    {
     "name": "stdout",
     "output_type": "stream",
     "text": [
      "['BANANA', 'MAÇÃ', 'ABACAXI', 'TOMATES'] ['B', 'M', 'A', 'T']\n"
     ]
    }
   ],
   "source": [
    "frutas = ['banana', 'maçã', 'abacaxi', 'tomates']\n",
    "frutas = [fruta.upper() for fruta in frutas]\n",
    "letras = [ fruta[0] for fruta in frutas]\n",
    "print(frutas, letras)"
   ]
  },
  {
   "cell_type": "code",
   "execution_count": 14,
   "metadata": {},
   "outputs": [
    {
     "name": "stdout",
     "output_type": "stream",
     "text": [
      "[1, 2, 3, 4, 5, 6]\n",
      "[1, 3, 6]\n",
      "[2, 4, 6] [1, 3, 5]\n"
     ]
    }
   ],
   "source": [
    "## if na expressão\n",
    "numeros = [1,-2,3,-4,-5,6]\n",
    "todos = [x * -1 if x < 0 else x for x in numeros]\n",
    "print(todos)\n",
    "\n",
    "## if na condição\n",
    "positivos = [x for x in numeros if x > 0]\n",
    "print(positivos)\n",
    "\n",
    "pares = [x for x in todos if not x % 2]\n",
    "impares = [x for x in todos if x % 2]\n",
    "print(pares, impares)"
   ]
  }
 ],
 "metadata": {
  "kernelspec": {
   "display_name": "Python 3",
   "language": "python",
   "name": "python3"
  },
  "language_info": {
   "codemirror_mode": {
    "name": "ipython",
    "version": 3
   },
   "file_extension": ".py",
   "mimetype": "text/x-python",
   "name": "python",
   "nbconvert_exporter": "python",
   "pygments_lexer": "ipython3",
   "version": "3.12.4"
  }
 },
 "nbformat": 4,
 "nbformat_minor": 2
}
