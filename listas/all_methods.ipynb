{
 "cells": [
  {
   "cell_type": "markdown",
   "metadata": {},
   "source": [
    "# Todos os métodos para listas\n",
    "\n",
    "[vídeo de Listas](https://www.youtube.com/watch?v=zEGHDt4igk8)"
   ]
  },
  {
   "cell_type": "code",
   "execution_count": null,
   "metadata": {},
   "outputs": [],
   "source": [
    "lista = []\n",
    "lista_1 = [1,2,3,4,5]"
   ]
  },
  {
   "cell_type": "markdown",
   "metadata": {},
   "source": [
    "### .append()\n",
    "Adionar elemento ao final da lista"
   ]
  },
  {
   "cell_type": "code",
   "execution_count": 41,
   "metadata": {},
   "outputs": [
    {
     "data": {
      "text/plain": [
       "[1, 2, 3, 4, 5, 25]"
      ]
     },
     "execution_count": 41,
     "metadata": {},
     "output_type": "execute_result"
    }
   ],
   "source": [
    "lista_1.append(25)\n",
    "lista_1"
   ]
  },
  {
   "cell_type": "markdown",
   "metadata": {},
   "source": [
    "### .clear()\n",
    "Reseta a lista existente apagando todos os itens nela existente"
   ]
  },
  {
   "cell_type": "code",
   "execution_count": 42,
   "metadata": {},
   "outputs": [
    {
     "data": {
      "text/plain": [
       "[]"
      ]
     },
     "execution_count": 42,
     "metadata": {},
     "output_type": "execute_result"
    }
   ],
   "source": [
    "lista_1.clear()\n",
    "lista_1"
   ]
  },
  {
   "cell_type": "markdown",
   "metadata": {},
   "source": [
    "### .copy()\n",
    "A chamada cópia profunda, pois cria uma nova lista com os mesmos valores, porém, independente. Diferente da cópia superficial, que apenas dá mais um nome à lista, como se o espaço na memória tivesse 2 etiquetas apontando para ele, se ele muda, as duas etiquetas têm seu resultado alterado."
   ]
  },
  {
   "cell_type": "code",
   "execution_count": null,
   "metadata": {},
   "outputs": [
    {
     "name": "stdout",
     "output_type": "stream",
     "text": [
      "copia superficial: [1, 2, 3, 4, 5, 25] [1, 2, 3, 4, 5, 25]\n",
      "cópia profunda 1 [1, 2, 3, 4, 5] [1, 2, 3, 4, 5, 25]\n",
      "cópia profunda 2 [1, 2, 3, 4, 5] [1, 2, 3, 4, 5, 25]\n"
     ]
    }
   ],
   "source": [
    "lista_1 = [1,2,3,4,5]\n",
    "lista_2 = lista_1                               # cópia superficial - shallow\n",
    "lista_2.append(25)\n",
    "print('copia superficial:',lista_1, lista_2)\n",
    "\n",
    "lista_1 = [1,2,3,4,5]\n",
    "lista_2 = lista_1.copy()                        # cópia profunda\n",
    "lista_2.append(25)\n",
    "print('cópia profunda 1',lista_1, lista_2)\n",
    "\n",
    "lista_1 = [1,2,3,4,5]\n",
    "lista_2 = lista_1[:]                            # cópia profunda\n",
    "lista_2.append(25)\n",
    "print('cópia profunda 2',lista_1, lista_2)"
   ]
  },
  {
   "cell_type": "markdown",
   "metadata": {},
   "source": [
    "### .count()\n",
    "conta o número de vezes que dado elemento aparece na lista"
   ]
  },
  {
   "cell_type": "code",
   "execution_count": 44,
   "metadata": {},
   "outputs": [
    {
     "name": "stdout",
     "output_type": "stream",
     "text": [
      "2 3\n"
     ]
    }
   ],
   "source": [
    "lista_1 = [1,2,2,3,3,3,4,4,4,4]\n",
    "twos = lista_1.count(2)\n",
    "threes= lista_1.count(3)\n",
    "print(twos, threes)"
   ]
  },
  {
   "cell_type": "markdown",
   "metadata": {},
   "source": [
    "### .extend()\n",
    "adiciona multiplos elementos de uma só vez ou outra lista inteira"
   ]
  },
  {
   "cell_type": "code",
   "execution_count": 45,
   "metadata": {},
   "outputs": [
    {
     "name": "stdout",
     "output_type": "stream",
     "text": [
      "adicionando múltiplos elementos: [1, 2, 3, 4, 5, 25, 26, 27]\n",
      "adicionando outra lista: [1, 2, 3, 4, 5, 25, 26, 27, 6, 7, 8, 9]\n"
     ]
    }
   ],
   "source": [
    "lista_1 = [1,2,3,4,5]\n",
    "lista_2 = [6,7,8,9]\n",
    "lista_1.extend([25,26,27])      # colocados antes numa lista \n",
    "print('adicionando múltiplos elementos:', lista_1)\n",
    "lista_1.extend(lista_2)\n",
    "print('adicionando outra lista:', lista_1)"
   ]
  },
  {
   "cell_type": "markdown",
   "metadata": {},
   "source": [
    "### .index()\n",
    "recupera a posição da primeira ocorrência de um elemento dado, pode ser indicado também a partir de qual posição procurar"
   ]
  },
  {
   "cell_type": "code",
   "execution_count": 46,
   "metadata": {},
   "outputs": [
    {
     "name": "stdout",
     "output_type": "stream",
     "text": [
      "3\n",
      "5\n",
      "25 is not in list\n"
     ]
    }
   ],
   "source": [
    "posicao = lista_1.index(4)\n",
    "print(posicao)      # index começa no 0 - zero\n",
    "posicao = lista_1.index(25, 3, 6)\n",
    "print(posicao)      # index começa no 0 - zero\n",
    "\n",
    "try:\n",
    "    posicao = lista_1.index(25, 6, -1)\n",
    "    print(posicao)      # index começa no 0 - zero\n",
    "except ValueError as e:\n",
    "    print(e)"
   ]
  },
  {
   "cell_type": "markdown",
   "metadata": {},
   "source": [
    "### .insert()\n",
    "insere um novo elemento à lista antes da posição desejada, esse local é importante pq se passar o último index ou o -1 o elemento não será o último, a final insere ANTES da posição, para inserir na última, você deve usar o append ou passar uma posicão maior que a do último index"
   ]
  },
  {
   "cell_type": "code",
   "execution_count": 47,
   "metadata": {},
   "outputs": [
    {
     "name": "stdout",
     "output_type": "stream",
     "text": [
      "[25, 1, 2, 3, 4, 5, 25, 26, 27, 6, 7, 8, 9]\n",
      "[25, 1, 2, 3, 4, 5, 25, 26, 27, 6, 7, 8, 100, 9]\n",
      "[25, 1, 2, 3, 4, 5, 25, 26, 27, 6, 7, 8, 100, 9, 200]\n"
     ]
    }
   ],
   "source": [
    "lista_1.insert(0, 25)\n",
    "print(lista_1)\n",
    "lista_1.insert(-1, 100)\n",
    "print(lista_1)\n",
    "lista_1.insert(len(lista_1), 200)\n",
    "print(lista_1)"
   ]
  },
  {
   "cell_type": "markdown",
   "metadata": {},
   "source": [
    "### .remove()\n",
    "remove a primeira ocorrência do elemento na lista"
   ]
  },
  {
   "cell_type": "code",
   "execution_count": 48,
   "metadata": {},
   "outputs": [
    {
     "data": {
      "text/plain": [
       "[1, 3, 4, 5]"
      ]
     },
     "execution_count": 48,
     "metadata": {},
     "output_type": "execute_result"
    }
   ],
   "source": [
    "lista = [1,2,3,4,4,5]\n",
    "lista.remove(4)\n",
    "lista.remove(2)\n",
    "lista"
   ]
  },
  {
   "cell_type": "markdown",
   "metadata": {},
   "source": [
    "### .pop()\n",
    "remove o último elemento da lista ou o de index especificado e o disponibiliza para você usá-lo"
   ]
  },
  {
   "cell_type": "code",
   "execution_count": 49,
   "metadata": {},
   "outputs": [
    {
     "name": "stdout",
     "output_type": "stream",
     "text": [
      "4\n",
      "11\n"
     ]
    }
   ],
   "source": [
    "lista = [1,2,3,4]\n",
    "print(lista.pop())\n",
    "print(10 + lista.pop(0))"
   ]
  },
  {
   "cell_type": "markdown",
   "metadata": {},
   "source": [
    "### .reverse()\n",
    "inverte a ordem dos elementos da lista, essa reversão pode ser apenas aparente ou efetiva"
   ]
  },
  {
   "cell_type": "code",
   "execution_count": 50,
   "metadata": {},
   "outputs": [
    {
     "name": "stdout",
     "output_type": "stream",
     "text": [
      "[4, 3, 2, 1]\n",
      "1\n",
      "2\n",
      "3\n",
      "4\n",
      "[4, 3, 2, 1]\n"
     ]
    }
   ],
   "source": [
    "lista = [1,2,3,4]\n",
    "lista.reverse()     # efetiva\n",
    "print(lista)\n",
    "for i in reversed(lista):   # apenas a iteração foi invertida, não a lista\n",
    "    print(i)\n",
    "print(lista)"
   ]
  },
  {
   "cell_type": "markdown",
   "metadata": {},
   "source": [
    "### .sort()\n",
    "Ordena a lista em ordem crescente ou decrescente e também por outra característica"
   ]
  },
  {
   "cell_type": "code",
   "execution_count": 51,
   "metadata": {},
   "outputs": [
    {
     "name": "stdout",
     "output_type": "stream",
     "text": [
      "[0, 1, 2, 4, 4, 5, 6, 7, 7, 8, 9, 9, 12, 35]\n",
      "[35, 12, 9, 9, 8, 7, 7, 6, 5, 4, 4, 2, 1, 0]\n",
      "['Cuba', 'Brasil', 'Suriname', 'Zimbabue', 'Alemanha']\n",
      "['Suriname', 'Zimbabue', 'Alemanha', 'Brasil', 'Cuba']\n"
     ]
    }
   ],
   "source": [
    "lista = [5,9,4,6,7,8,1,7,2,9,12,35,4,0]\n",
    "lista.sort()\n",
    "print(lista)\n",
    "lista.sort(reverse=True)\n",
    "print(lista)\n",
    "lista = ['Brasil', 'Cuba', 'Suriname', 'Zimbabue', 'Alemanha']\n",
    "lista.sort(key=len)\n",
    "print(lista)\n",
    "lista.sort(key=len, reverse=True)\n",
    "print(lista)"
   ]
  }
 ],
 "metadata": {
  "kernelspec": {
   "display_name": "Python 3",
   "language": "python",
   "name": "python3"
  },
  "language_info": {
   "codemirror_mode": {
    "name": "ipython",
    "version": 3
   },
   "file_extension": ".py",
   "mimetype": "text/x-python",
   "name": "python",
   "nbconvert_exporter": "python",
   "pygments_lexer": "ipython3",
   "version": "3.12.4"
  }
 },
 "nbformat": 4,
 "nbformat_minor": 2
}
