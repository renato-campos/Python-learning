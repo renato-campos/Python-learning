{
 "cells": [
  {
   "cell_type": "markdown",
   "id": "7033381d",
   "metadata": {},
   "source": [
    "## 16 - Strings in Python \n",
    "\n",
    "[Youtube: Aula 16](https://youtu.be/iYCiWadRZ8I?si=ealDSiZKsPX9U0Hh \"Assista à aula na Neso Academy\")"
   ]
  },
  {
   "cell_type": "markdown",
   "id": "e60c9e06",
   "metadata": {},
   "source": [
    "### Resumo\n",
    "O título \"Strings em Python\" sugere um texto que aborda o tema das strings (cadeias de caracteres) na linguagem de programação Python.\n",
    "\n",
    "### Destaques\n",
    "- 🔤 O texto provavelmente detalha a definição e manipulação de strings.\n",
    "- 🐍 Poderá incluir exemplos de como criar, formatar e utilizar strings em Python.\n",
    "- ✂️ Métodos para fatiar (slicing) e modificar strings podem ser abordados.\n",
    "- ➕ Operações comuns, como concatenação e pesquisa dentro de strings, serão provavelmente explicadas.\n",
    "- 📚 É provável que o texto sirva como um guia introdutório ou de referência sobre o uso de strings em Python.\n"
   ]
  },
  {
   "cell_type": "markdown",
   "id": "62ac7aab",
   "metadata": {},
   "source": [
    "### String Data Type\n",
    "- string é uma sequência de caracteres\n",
    "- pode estar entre aspas simples ou duplas\n",
    "- se for usar um tipo de aspas dentro da string, ela deve ser limitada pelo outro tipo\n",
    "- pode-se usar o escape se necessário"
   ]
  },
  {
   "cell_type": "code",
   "execution_count": 24,
   "id": "94591ae2",
   "metadata": {},
   "outputs": [
    {
     "name": "stdout",
     "output_type": "stream",
     "text": [
      "Renato\n",
      "Renato Silva\n",
      "Renato \"Silva\"\n",
      "Renato 'Silva'\n"
     ]
    }
   ],
   "source": [
    "string = \"Renato\"\n",
    "print(string)\n",
    "string = \"Renato Silva\"\n",
    "print(string)\n",
    "string = 'Renato \"Silva\"'\n",
    "print(string)\n",
    "string = 'Renato \\'Silva\\''\n",
    "print(string)"
   ]
  },
  {
   "cell_type": "markdown",
   "id": "f1241704",
   "metadata": {},
   "source": [
    "### Strings em múltiplas linhas\n",
    "- strings entre 3 aspas simples ou duplas"
   ]
  },
  {
   "cell_type": "code",
   "execution_count": 25,
   "id": "e12b8e71",
   "metadata": {},
   "outputs": [
    {
     "name": "stdout",
     "output_type": "stream",
     "text": [
      "Renato' Silva\n",
      "\"Developer\"\n",
      "Python\n"
     ]
    }
   ],
   "source": [
    "string = \"\"\"Renato' Silva\n",
    "\"Developer\"\n",
    "Python\"\"\"\n",
    "print(string)"
   ]
  },
  {
   "cell_type": "markdown",
   "id": "aee67663",
   "metadata": {},
   "source": [
    "## 17 - Acessando Caracteres numa String\n",
    "\n",
    "[Youtube: Aula 17](https://youtu.be/_n_op0dmTCY?si=Fm3dQ-gdKKXSKX4q \"Assista à aula na Neso Academy\")"
   ]
  },
  {
   "cell_type": "markdown",
   "id": "812da7e1",
   "metadata": {},
   "source": [
    "### Sumário\n",
    "Aceder a caracteres de strings em Python é uma operação fundamental para manipulação de texto.\n",
    "\n",
    "### Destaques\n",
    "- 🔤 **Indexação:** As strings são sequências, permitindo acesso a caracteres individuais usando índices.\n",
    "- 🔢 **Índices positivos e negativos:** Pode-se usar índices positivos (iniciando em 0) ou negativos (iniciando em -1 para o último caractere).\n",
    "- ✂️ **Slicing:** É possível extrair substrings (slices) especificando um intervalo de índices.\n",
    "- ⚠️ **IndexError:** Tentar aceder a um índice fora do intervalo válido resultará num erro `IndexError`.\n",
    "- 🔄 **Imutabilidade:** As strings são imutáveis; não se pode modificar um caractere diretamente através do índice.\n"
   ]
  },
  {
   "cell_type": "markdown",
   "id": "1e11539a",
   "metadata": {},
   "source": [
    "### Acessando Caracteres individualmente\n",
    "- cada caracter possui um index,  começando do 0"
   ]
  },
  {
   "cell_type": "code",
   "execution_count": 26,
   "id": "132a05f5",
   "metadata": {},
   "outputs": [
    {
     "name": "stdout",
     "output_type": "stream",
     "text": [
      "D\n",
      "l\n"
     ]
    }
   ],
   "source": [
    "palavra = \"Developer\"\n",
    "print(palavra[0])    # Acessa o primeiro caractere 'D'\n",
    "print(palavra[4])    # Acessa o quinto caractere 'l'"
   ]
  },
  {
   "cell_type": "markdown",
   "id": "82fb3d77",
   "metadata": {},
   "source": [
    "### Acessando Caracteres individualmente a partir do final\n",
    "- cada caracter também possui um index a partir do último, mas inicia em -1"
   ]
  },
  {
   "cell_type": "code",
   "execution_count": 27,
   "id": "2b11915d",
   "metadata": {},
   "outputs": [
    {
     "name": "stdout",
     "output_type": "stream",
     "text": [
      "r\n",
      "l\n"
     ]
    }
   ],
   "source": [
    "print(palavra[-1])   # Acessa o último caractere 'r'\n",
    "print(palavra[-5])   # Acessa o quinto caractere a partir do final 'o'"
   ]
  },
  {
   "cell_type": "markdown",
   "id": "919a2571",
   "metadata": {},
   "source": [
    "### Acessando substrings\n",
    "- um trecho de caracteres podem ser acessados usando o slice\n",
    "  \n",
    "  `string[inicio:final:passo]`\n",
    "\n",
    "**início**: primeiro caracter a fazer parte da substring\n",
    "\n",
    "**final**: primeiro caracter a não fazer parte da substring\n",
    "\n",
    "**passo**: de quantos em quantos index será o percurso na string\n",
    "\n",
    "**observação**: o caracter de index final não estará na substring"
   ]
  },
  {
   "cell_type": "code",
   "execution_count": 30,
   "id": "bc02699b",
   "metadata": {},
   "outputs": [
    {
     "name": "stdout",
     "output_type": "stream",
     "text": [
      "evel\n",
      "Dev\n",
      "Dev\n",
      "loper\n",
      "Developer\n",
      "Dvlpr\n",
      "eeoe\n",
      "repoleveD\n",
      "lope\n",
      "repo\n"
     ]
    }
   ],
   "source": [
    "print(palavra[1:5])  # Acessa os caracteres do index 1 ao 4 'evel'\n",
    "print(palavra[0:3])  # Acessa os caracteres do index 0 ao 2 'Dev'\n",
    "print(palavra[:3])   # Acessa os caracteres do início até o index 3 'Dev'\n",
    "print(palavra[4:])   # Acessa os caracteres do index 4 até o final 'loper'\n",
    "print(palavra[:])    # Acessa todos os caracteres 'Developer'\n",
    "print(palavra[::2])  # Acessa todos os caracteres com passo 2 'Dvlpe'\n",
    "print(palavra[1::2]) # Acessa todos os caracteres a partir do index 1 com passo 2 'eoe'\n",
    "print(palavra[::-1]) # Acessa todos os caracteres em ordem reversa 'repoleveD'\n",
    "print(palavra[-5:-1]) # Acessa os caracteres do index -5 ao -2 'lope'\n",
    "print(palavra[-1:-5:-1]) # Acessa os caracteres do index -1 ao -4 em ordem reversa 'repol'\n"
   ]
  },
  {
   "cell_type": "markdown",
   "id": "b71a1bb7",
   "metadata": {},
   "source": [
    "## 18 - Operadores de Strings\n",
    "\n",
    "[Youtube: Aula 18](https://youtu.be/FqcoIlCjRYY?si=9_zl-XAyz6QaUlvf \"Assista à aula na Neso Academy\")"
   ]
  },
  {
   "cell_type": "markdown",
   "id": "6cd6478c",
   "metadata": {},
   "source": [
    "### Sumário\n",
    "Esta aula introdutória foca-se nos operadores de strings em Python, explorando as suas funcionalidades básicas.\n",
    "\n",
    "### Destaques\n",
    "- ➕ Operador de concatenação: Junta duas strings para formar uma nova string.\n",
    "- 🧮 Operador de multiplicação: Repete uma string um determinado número de vezes.\n",
    "- 🐍 Python: Enfatiza o uso destes operadores na linguagem Python.\n"
   ]
  },
  {
   "cell_type": "markdown",
   "id": "40f31fe2",
   "metadata": {},
   "source": [
    "### Concatenando strings\n",
    "- operador concatenate `+` concatena (combina) 2 strings"
   ]
  },
  {
   "cell_type": "code",
   "execution_count": 33,
   "id": "64b6c787",
   "metadata": {},
   "outputs": [
    {
     "name": "stdout",
     "output_type": "stream",
     "text": [
      "Hello, World!\n",
      "abc\n",
      "a b c\n"
     ]
    }
   ],
   "source": [
    "string1 = \"Hello, \"\n",
    "string2 = \"World!\"\n",
    "string3 = string1 + string2\n",
    "print(string3)  # Output: Hello, World!\n",
    "print('a'+'b'+'c')\n",
    "print('a '+'b '+'c')"
   ]
  },
  {
   "cell_type": "markdown",
   "id": "a6c5bc76",
   "metadata": {},
   "source": [
    "### Repetindo Strings\n",
    "- operador de repetição `*` repete n vezes a string"
   ]
  },
  {
   "cell_type": "code",
   "execution_count": null,
   "id": "2ca2983b",
   "metadata": {},
   "outputs": [
    {
     "name": "stdout",
     "output_type": "stream",
     "text": [
      "kkkkk\n",
      "Ha! Ha! Ha! \n",
      "\n",
      "\n"
     ]
    }
   ],
   "source": [
    "string = 'k' * 5\n",
    "print(string)  # Output: kkkkk\n",
    "string = 3 * ('Ha!' + \" \")\n",
    "print(string)  # Output: Ha! Ha! Ha!\n",
    "print(string * 0) # Output: (string vazia)\n",
    "print(string * -2) # Output: (string vazia)"
   ]
  },
  {
   "cell_type": "markdown",
   "id": "ac77fd22",
   "metadata": {},
   "source": [
    "## 19 - Comparando Strings\n",
    "\n",
    "[Youtube: Aula 19](https://youtu.be/KX0fwvddR-U?si=VrG4hkmPLu4h0utL \"Assista à aula na Neso Academy\")"
   ]
  },
  {
   "cell_type": "markdown",
   "id": "50883f06",
   "metadata": {},
   "source": [
    "#### Resumo\n",
    "Este documento resume operadores de strings em Python (Parte 2), focando em realçar os aspetos mais importantes deste tópico.\n",
    "\n",
    "#### Destaques\n",
    "- ➕ Concatenação de strings é realizada usando o operador `+`.\n",
    "- ✂️ Substrings podem ser extraídas usando slicing.\n",
    "- 🔎 A função `len()` retorna o comprimento de uma string.\n",
    "- 🔁 A multiplicação (`*`) repete uma string um determinado número de vezes.\n",
    "- 🧰 Métodos como `.upper()`, `.lower()`, `.find()` e `.replace()` permitem manipular e pesquisar strings.\n"
   ]
  },
  {
   "cell_type": "markdown",
   "id": "cba0dc0f",
   "metadata": {},
   "source": [
    "### Regras em comparações\n",
    "- comparações são case-sensitive, ou seja, `A` é diferente de `a`\n",
    "- cada caractere tem um valor ASCII e estes que são comparados, por exemplo `A` é 65 e `a` é 97, logo `A < a`\n",
    "- letras maiúsculas têm ASCIIs menores que as minúsculas"
   ]
  },
  {
   "cell_type": "markdown",
   "id": "d9a7ea64",
   "metadata": {},
   "source": [
    "### Operador de igualdade `==`\n",
    "- retorna `True` quando forem iguais, caso contrário retorna `False`"
   ]
  },
  {
   "cell_type": "code",
   "execution_count": 40,
   "id": "57b4d548",
   "metadata": {},
   "outputs": [
    {
     "name": "stdout",
     "output_type": "stream",
     "text": [
      "True\n",
      "False\n"
     ]
    }
   ],
   "source": [
    "print('apple' == 'apple')  # True\n",
    "print('apple' == 'Apple')  # False"
   ]
  },
  {
   "cell_type": "markdown",
   "id": "90521690",
   "metadata": {},
   "source": [
    "### Operador de diferença `!=`\n",
    "- retorna `True` quando forem diferentes, caso contrário retorna `False`"
   ]
  },
  {
   "cell_type": "code",
   "execution_count": 41,
   "id": "15f552d9",
   "metadata": {},
   "outputs": [
    {
     "name": "stdout",
     "output_type": "stream",
     "text": [
      "False\n",
      "True\n"
     ]
    }
   ],
   "source": [
    "print('apple' != 'apple')  # False\n",
    "print('apple' != 'Apple')  # True"
   ]
  },
  {
   "cell_type": "markdown",
   "id": "11478132",
   "metadata": {},
   "source": [
    "### Operador menor que `<`| maior que `>`\n",
    "- retorna `True` or `False` conforme o operador ao comparar os valores ASCII dos caracteres"
   ]
  },
  {
   "cell_type": "code",
   "execution_count": null,
   "id": "2d161dcd",
   "metadata": {},
   "outputs": [],
   "source": [
    "print('Apple' < 'apple')   # True\n",
    "print('applE' > 'apple')  # False"
   ]
  },
  {
   "cell_type": "markdown",
   "id": "6a1b0660",
   "metadata": {},
   "source": [
    "## 20 - Outros operadores com Strings\n",
    "\n",
    "[Youtube: Aula 20](https://youtu.be/nJL9geGc1xg?si=QobzvqYB6KALzSZE \"Assista à aula na Neso Academy\")"
   ]
  },
  {
   "cell_type": "markdown",
   "id": "e2bb086f",
   "metadata": {},
   "source": [
    "### Sumário\n",
    "\n",
    "Este material foca-se nos operadores de strings em Python, presumivelmente na parte 3 de uma série.\n",
    "\n",
    "### Destaques\n",
    "\n",
    "\n",
    "- 🔎 **Membership:** Talvez discuta a verificação da presença de substrings numa string (operador \"in\").\n"
   ]
  },
  {
   "cell_type": "markdown",
   "id": "9086da61",
   "metadata": {},
   "source": [
    "### Operador Membership\n",
    "\n",
    "- operador `in` retorna `True` se a primeira string **está contida** na segunda\n",
    "- operador `not in` retorna `False` pelo contrário"
   ]
  },
  {
   "cell_type": "code",
   "execution_count": 2,
   "id": "bac76d50",
   "metadata": {},
   "outputs": [
    {
     "name": "stdout",
     "output_type": "stream",
     "text": [
      "True\n",
      "False\n",
      "False\n",
      "True\n"
     ]
    }
   ],
   "source": [
    "print('real' in 'realidade')  # True\n",
    "print('Real' in 'realidade')  # False\n",
    "print('real' not in 'realidade')  # False\n",
    "print('Real' not in 'realidade')  # True\n"
   ]
  },
  {
   "cell_type": "markdown",
   "id": "de4ab55b",
   "metadata": {},
   "source": [
    "### Operador Escape sequência\n",
    "- o caractere *ESCAPE* é usado para inserir um caractere não permitido na string\n",
    "- \\n : nova linha\n",
    "- \\b : backspace\n",
    "- \\t : tab\n",
    "- \\\\ : a própria barra invertida\n",
    "- \\oo : inserir um número octal ; cada `o` representa um digito do octal\n",
    "- \\xhh : inserir um número hexadecimal; cada `h` representa um digito do hexadecimal"
   ]
  },
  {
   "cell_type": "code",
   "execution_count": 13,
   "id": "128b41df",
   "metadata": {},
   "outputs": [
    {
     "name": "stdout",
     "output_type": "stream",
     "text": [
      "I'm learning Python.\n",
      "Line1\n",
      "Line2\n",
      "Helo World\n",
      "Column1\tColumn2\n",
      "This is a backslash: \\\n",
      "Octal character: A\n",
      "Hexadecimal character: A\n"
     ]
    }
   ],
   "source": [
    "print('I\\'m learning Python.')  # usando o escape para inserir uma aspa simples\n",
    "print(\"Line1\\nLine2\")  # nova linha\n",
    "print(\"Hell\\bo World\")  # backspace\n",
    "print(\"Column1\\tColumn2\")  # tabulação\n",
    "print(\"This is a backslash: \\\\\")  # barra invertida\n",
    "print(\"Octal character: \\101\")  # caractere octal (A)\n",
    "print(\"Hexadecimal character: \\x41\")  # caractere hexadecimal (A)\n"
   ]
  },
  {
   "cell_type": "markdown",
   "id": "ea97cb46",
   "metadata": {},
   "source": [
    "### Formatador de strings\n",
    "- o formatador de strings `%` para formatar strings\n",
    "- exemplos: `%d`, `%c`, `%s` e `%f` decimal, caractere, string e float\n",
    "- em desuso com a chegada do método format() e as f-strings"
   ]
  },
  {
   "cell_type": "code",
   "execution_count": 14,
   "id": "21f8fc97",
   "metadata": {},
   "outputs": [
    {
     "name": "stdout",
     "output_type": "stream",
     "text": [
      "Idade: 20 anos\n"
     ]
    }
   ],
   "source": [
    "idade = 20\n",
    "print(\"Idade: %d anos\" % idade)  # Usando %d para inteiros"
   ]
  },
  {
   "cell_type": "markdown",
   "id": "c3f14bb2",
   "metadata": {},
   "source": [
    "## 21 - Fatiando Strings (slice)\n",
    "\n",
    "[Youtube: Aula 21](https://youtu.be/3PGcu6Jv9c0?si=JPN7xCBkNl0MrTJz \"Assista à aula na Neso Academy\")"
   ]
  },
  {
   "cell_type": "markdown",
   "id": "b9838e7d",
   "metadata": {},
   "source": [
    "### Resumo\n",
    "Este texto introduz o slicing de strings em Python.\n",
    "\n",
    "### Destaques\n",
    "- ✂️ O slicing permite extrair partes de strings.\n",
    "- 🐍 Trata-se de uma funcionalidade essencial da linguagem Python.\n",
    "- 📚 Este documento é a \"Parte 1\", indicando que haverá mais informações sobre o tema.\n"
   ]
  },
  {
   "cell_type": "markdown",
   "id": "56b74e84",
   "metadata": {},
   "source": [
    "### Fatiamento de Strings - SLICE\n",
    "- técnica que permite acesso a parte de uma string / substring / slicing\n",
    "- `string[inicio:fim:passo]`"
   ]
  },
  {
   "cell_type": "code",
   "execution_count": 16,
   "id": "7706f623",
   "metadata": {},
   "outputs": [
    {
     "name": "stdout",
     "output_type": "stream",
     "text": [
      "Renato\n",
      "Re\n",
      "nato\n",
      "Rnt\n",
      "otaneR\n"
     ]
    }
   ],
   "source": [
    "string = \"Renato\"\n",
    "print(string)\n",
    "print(string[:2])  # 'Re'\n",
    "print(string[2:])  # 'nato'\n",
    "print(string[::2])  # 'Rnt'\n",
    "print(string[::-1])  # 'otaneR'"
   ]
  },
  {
   "cell_type": "markdown",
   "id": "65867a14",
   "metadata": {},
   "source": [
    "## 22 - Fatiando Strings (slice)\n",
    "\n",
    "[Youtube: Aula 22](https://youtu.be/eyIBlyvbkxs?si=m_xTkbOxMe5zTkz9 \"Assista à aula na Neso Academy\")"
   ]
  },
  {
   "cell_type": "markdown",
   "id": "88931876",
   "metadata": {},
   "source": [
    "### Sumário\n",
    "Esta transcrição trata de slicing de strings em Python, a continuação de um tema.\n",
    "\n",
    "### Destaques\n",
    "- ✂️ O slicing de strings permite extrair partes específicas de uma string.\n",
    "- 🐍 É uma funcionalidade fundamental da linguagem Python para manipulação de texto.\n",
    "- ✨ O título sugere uma exploração mais aprofundada dos conceitos de slicing.\n",
    "- 📚 A transcrição provavelmente contém exemplos e explicações adicionais sobre o tema.\n",
    "- 🧩 Permite trabalhar de forma eficiente com substrings dentro de strings maiores.\n"
   ]
  },
  {
   "cell_type": "code",
   "execution_count": 25,
   "id": "1b92ffd8",
   "metadata": {},
   "outputs": [
    {
     "name": "stdout",
     "output_type": "stream",
     "text": [
      "Renato\n",
      "Rnt\n",
      "otaneR\n",
      "ea\n",
      "otan\n"
     ]
    }
   ],
   "source": [
    "### Passo e passo negativo\n",
    "string = \"Renato\"\n",
    "print(string)\n",
    "print(string[::2])  # 'Rnt'\n",
    "print(string[::-1])  # 'otaneR'\n",
    "print(string[1:5:2]) # 'ea'\n",
    "print(string[5:1:-1]) # 'otan' ou seja, fica invertido o index por causa do passo negativo"
   ]
  },
  {
   "cell_type": "markdown",
   "id": "d03ddfad",
   "metadata": {},
   "source": [
    "### Método `split()`\n",
    "\n",
    "- divide uma string em uma lista\n",
    "- sintaxe: `strin.split(separador, maxsplit)`\n",
    "- padrão: usa o espaço como separador e todas as vezes que aparecer\n",
    "- pode ser personalizado a um caracter e quantas vezes necessárias"
   ]
  },
  {
   "cell_type": "code",
   "execution_count": 3,
   "id": "c5b8b47c",
   "metadata": {},
   "outputs": [
    {
     "name": "stdout",
     "output_type": "stream",
     "text": [
      "['Hello!', 'Welcome', 'to', 'Python', 'programming.']\n",
      "['Hello!', 'Welcome', 'to Python programming.']\n",
      "['Hell', '! Welc', 'me t', ' Pyth', 'n pr', 'gramming.']\n",
      "['Hell', '! Welc', 'me t', ' Python programming.']\n"
     ]
    }
   ],
   "source": [
    "str = 'Hello! Welcome to Python programming.'\n",
    "print(str.split())  # Divide uma string nos espaços em branco - padrão\n",
    "print(str.split(' ', 2))  # Divide a string no espaço no máximo 2 vezes / 3 partes\n",
    "print(str.split('o'))  # Divide a string na letra 'o'\n",
    "print(str.split('o', 3))  # Divide a string na letra 'o' no máximo 3 vezes / 4 partes"
   ]
  },
  {
   "cell_type": "markdown",
   "id": "14c7d0c0",
   "metadata": {},
   "source": [
    "### Método `rsplit()`\n",
    "\n",
    "- idem ao `split()` exceto que se inicia pela direita"
   ]
  },
  {
   "cell_type": "code",
   "execution_count": 4,
   "id": "d2bdeafb",
   "metadata": {},
   "outputs": [
    {
     "name": "stdout",
     "output_type": "stream",
     "text": [
      "['Hello!', 'Welcome', 'to', 'Python', 'programming.']\n",
      "['Hello! Welcome to', 'Python', 'programming.']\n",
      "['Hell', '! Welc', 'me t', ' Pyth', 'n pr', 'gramming.']\n",
      "['Hello! Welcome t', ' Pyth', 'n pr', 'gramming.']\n"
     ]
    }
   ],
   "source": [
    "str = 'Hello! Welcome to Python programming.'\n",
    "print(str.rsplit())  # Divide uma string nos espaços em branco - padrão\n",
    "print(str.rsplit(' ', 2))  # Divide a string no espaço no máximo 2 vezes / 3 partes\n",
    "print(str.rsplit('o'))  # Divide a string na letra 'o'\n",
    "print(str.rsplit('o', 3))  # Divide a string na letra 'o' no máximo 3 vezes / 4 partes"
   ]
  },
  {
   "cell_type": "markdown",
   "id": "55feed0b",
   "metadata": {},
   "source": [
    "### Método `join()`\n",
    "\n",
    "- juntar elementos de um iterável\n",
    "- sintaxe: `separador.join(iteravel)`\n",
    "\n",
    "**OBSERVAÇÃO** O que é um iterável?\n",
    "- um iterável é um objeto capaz de retornar seus membros um por vez. Lista, dicionários, tuplas, conjuntos e strings são exemplos de iteráveis."
   ]
  },
  {
   "cell_type": "code",
   "execution_count": 13,
   "id": "509f3ef9",
   "metadata": {},
   "outputs": [
    {
     "name": "stdout",
     "output_type": "stream",
     "text": [
      "hello\n",
      "h_e_l_l_o\n",
      "name, age\n",
      "name, age\n",
      "Renato, 30\n",
      "name: Renato, age: 30\n"
     ]
    }
   ],
   "source": [
    "lista = [ 'h', 'e', 'l', 'l', 'o' ]\n",
    "string = ''.join(lista)\n",
    "print(string)  # Output: hello\n",
    "string = '_'.join(lista)   \n",
    "print(string)  # Output: h_e_l_l_o\n",
    "dicionario = {'name': 'Renato', 'age': '30'}\n",
    "print(', '.join(dicionario))    # Output: name, age só as chaves\n",
    "print(', '.join(dicionario.keys())) # Output: name, age só as chaves\n",
    "print(', '.join(dicionario.values())) # Output: Renato, 30 só os valores\n",
    "print(', '.join(f\"{key}: {value}\" for key, value in dicionario.items()))\n"
   ]
  },
  {
   "cell_type": "markdown",
   "id": "400bdb8c",
   "metadata": {},
   "source": [
    "### Método `replace()`\n",
    "\n",
    "- usado para substituir uma string por outra string\n",
    "- sintaxe: `string.replace(string_str, nova_str, count)`"
   ]
  },
  {
   "cell_type": "code",
   "execution_count": 18,
   "id": "9ca14253",
   "metadata": {},
   "outputs": [
    {
     "name": "stdout",
     "output_type": "stream",
     "text": [
      "Eu amo comer banana. Eu gosto de banana.\n",
      "Eu amo comer banana. Eu gosto de maçã.\n",
      "Eu amo comer maçã. Eu gosto de maçã.\n"
     ]
    }
   ],
   "source": [
    "str = 'Eu amo comer maçã. Eu gosto de maçã.'\n",
    "print(str.replace('maçã', 'banana'))  # Substitui todas as 'maçã' por 'banana'\n",
    "print(str.replace('maçã', 'banana', 1))  # Substitui a primeira 'maçã' por 'banana'\n",
    "print(str)"
   ]
  },
  {
   "cell_type": "code",
   "execution_count": 33,
   "id": "78306501",
   "metadata": {},
   "outputs": [
    {
     "ename": "TypeError",
     "evalue": "sequence item 0: expected str instance, int found",
     "output_type": "error",
     "traceback": [
      "\u001b[31m---------------------------------------------------------------------------\u001b[39m",
      "\u001b[31mTypeError\u001b[39m                                 Traceback (most recent call last)",
      "\u001b[36mCell\u001b[39m\u001b[36m \u001b[39m\u001b[32mIn[33]\u001b[39m\u001b[32m, line 3\u001b[39m\n\u001b[32m      1\u001b[39m lista = [\u001b[32m1\u001b[39m, \u001b[32m2\u001b[39m]\n\u001b[32m----> \u001b[39m\u001b[32m3\u001b[39m \u001b[38;5;28mprint\u001b[39m(\u001b[33;43m'\u001b[39;49m\u001b[33;43m'\u001b[39;49m\u001b[43m.\u001b[49m\u001b[43mjoin\u001b[49m\u001b[43m(\u001b[49m\u001b[43mlista\u001b[49m\u001b[43m)\u001b[49m)\n",
      "\u001b[31mTypeError\u001b[39m: sequence item 0: expected str instance, int found"
     ]
    }
   ],
   "source": [
    "lista = [1, 2]\n",
    "\n",
    "print(''.join(lista))"
   ]
  },
  {
   "cell_type": "markdown",
   "id": "870d2808",
   "metadata": {},
   "source": [
    "### Método `upper()`\n",
    "\n",
    "- converte todas as letras da string em maiúsculas"
   ]
  },
  {
   "cell_type": "code",
   "execution_count": 36,
   "id": "0684ece3",
   "metadata": {},
   "outputs": [
    {
     "name": "stdout",
     "output_type": "stream",
     "text": [
      "DEVELOPER\n",
      "Developer\n"
     ]
    }
   ],
   "source": [
    "string = \"Developer\"\n",
    "print(string.upper())  # Output: DEVELOPER\n",
    "print(string)"
   ]
  },
  {
   "cell_type": "markdown",
   "id": "ca278a97",
   "metadata": {},
   "source": [
    "###  Método `lower()`\n",
    "\n",
    "-converte todas as letras da string em minúsculas"
   ]
  },
  {
   "cell_type": "code",
   "execution_count": 35,
   "id": "37455555",
   "metadata": {},
   "outputs": [
    {
     "name": "stdout",
     "output_type": "stream",
     "text": [
      "developer\n"
     ]
    }
   ],
   "source": [
    "print(string.lower())  # Output: developer"
   ]
  },
  {
   "cell_type": "markdown",
   "id": "eb026b65",
   "metadata": {},
   "source": [
    "### Método `capitalized()`\n",
    "\n",
    "- converte a primeira letra da string em maiúscula e todas as outras para minúsculas"
   ]
  },
  {
   "cell_type": "code",
   "execution_count": 38,
   "id": "f2add0a8",
   "metadata": {},
   "outputs": [
    {
     "name": "stdout",
     "output_type": "stream",
     "text": [
      "Eu sou desenvolvedor\n"
     ]
    }
   ],
   "source": [
    "string = 'eu sou Desenvolvedor'\n",
    "print(string.capitalize())  # Output: Eu sou desenvolvedor"
   ]
  },
  {
   "cell_type": "markdown",
   "id": "17189316",
   "metadata": {},
   "source": [
    "### Método `titled()`\n",
    "\n",
    "- converte para maiúscula todas as letras que iniciam uma palavra"
   ]
  },
  {
   "cell_type": "code",
   "execution_count": 39,
   "id": "ab87863b",
   "metadata": {},
   "outputs": [
    {
     "name": "stdout",
     "output_type": "stream",
     "text": [
      "Eu Sou Desenvolvedor\n"
     ]
    }
   ],
   "source": [
    "print(string.title())"
   ]
  },
  {
   "cell_type": "markdown",
   "id": "85442cc6",
   "metadata": {},
   "source": [
    "### Métodos `isupper()` e `islower()`\n",
    "\n",
    "- retornam `True` ou `False` se confirmarem que todas as letras forem maiúsculas ou minúsculas conforme o caso."
   ]
  },
  {
   "cell_type": "code",
   "execution_count": 44,
   "id": "2b4af75f",
   "metadata": {},
   "outputs": [
    {
     "name": "stdout",
     "output_type": "stream",
     "text": [
      "1 True\n",
      "2 False\n",
      "3 False\n",
      "4 True\n",
      "5 False\n",
      "6 True\n",
      "7 True\n",
      "8 False\n",
      "9 False\n",
      "10 True\n"
     ]
    }
   ],
   "source": [
    "string = \"DEV\"\n",
    "print(1, string.isupper())  # Output: TRue\n",
    "print(2, string.islower())  # Output: False\n",
    "string = \"developer\"\n",
    "print(3, string.isupper())  # Output: False\n",
    "print(4, string.islower())  # Output: True\n",
    "string = '235anos'\n",
    "print(5, string.isupper())  # Output: False\n",
    "print(6, string.islower())  # Output: True\n",
    "string = '235ANOS'\n",
    "print(7, string.isupper())  # Output: True\n",
    "print(8, string.islower())  # Output: False\n",
    "string = '_developer_'\n",
    "print(9, string.isupper())  # Output: False\n",
    "print(10, string.islower())  # Output: True"
   ]
  },
  {
   "cell_type": "markdown",
   "id": "58260a46",
   "metadata": {},
   "source": [
    "### Operadores Bitwise\n",
    "\n",
    "- são operadores lógicos que operam somente nos binários"
   ]
  },
  {
   "cell_type": "code",
   "execution_count": null,
   "id": "22bacc95",
   "metadata": {},
   "outputs": [
    {
     "name": "stdout",
     "output_type": "stream",
     "text": [
      "10\n",
      "0b1010\n",
      "0b101\n",
      "0\n",
      "15\n",
      "15\n",
      "-11\n",
      "40\n",
      "2\n",
      "0b0\n",
      "0b1111\n",
      "0b1111\n",
      "-0b1011\n",
      "0b101000\n",
      "0b10\n"
     ]
    }
   ],
   "source": [
    "a = 10\n",
    "print(a)\n",
    "print(bin(a))\n",
    "b = 5\n",
    "print(bin(b))\n",
    "\n",
    "# operadores bitwise AND (&), OR (|), XOR (^), NOT (~), deslocamento à esquerda (<<) e deslocamento à direita (>>)\n",
    "\n",
    "_and = a & b\n",
    "print(_and)  # Output: 0b0000  (em binário)\n",
    "_or = a | b\n",
    "print(_or)   # Output: 0b1111  (em binário)\n",
    "_xor = a ^ b\n",
    "print(_xor)  # Output: 0b1111  (em binário)\n",
    "_not = ~a\n",
    "print(_not)  # Output: -11 (em binário, complemento de 2)\n",
    "# por que deu -11? porque o NOT inverte todos os bits, incluindo o bit de sinal em números negativos. Atenção ao bit de sinal!\n",
    "left_shift = a << 2\n",
    "print(left_shift)  # Output: 40 (em binário: 0b101000)\n",
    "right_shift = a >> 2\n",
    "print(right_shift)  # Output: 2 (em binário: 0b10)\n",
    "# para visualizar em binário, use a função bin()\n",
    "print(bin(_and))\n",
    "print(bin(_or))\n",
    "print(bin(_xor))\n",
    "print(bin(_not))\n",
    "print(bin(left_shift))\n",
    "print(bin(right_shift))\n"
   ]
  },
  {
   "cell_type": "markdown",
   "id": "8e327cd0",
   "metadata": {},
   "source": [
    "### Operadores de Atribuição\n",
    "\n",
    "* ATRIBUIÇÃO `=`\n",
    "* ADIÇÃO E ATRIBUIÇAO `+=`\n",
    "* SUBTRAÇÃO E ATRIBUIÇAO `-=`\n",
    "* MULTIPLICAÇÃO E ATRIBUIÇÃO `*=`\n",
    "* DIVISÃO E ATRIBUIÇÃO `/=`\n",
    "* MÓDULO E ATRIBUIÇÃO `%=`\n",
    "* DIVISÃO INTEIRA E ATRIBUIÇÃO `//=`\n",
    "* EXPONENCIAÇÃO E ATRIBUIÇÃO `**=`\n",
    "* BITWISE AND E ATRIBUIÇÃO `&=`\n",
    "* BITWISE OR E ATRIBUIÇÃO `|=`\n",
    "* BITWISE XOR E ATRIBUIÇÃO `^=`\n",
    "* BITWISE RIGHT SHIFT E ATRIBUIÇÃO `>>=`\n",
    "* BITWISE LEFT SHIFT E ATRIBUIÇÃO `<<=`\n"
   ]
  },
  {
   "cell_type": "code",
   "execution_count": null,
   "id": "91a51437",
   "metadata": {},
   "outputs": [
    {
     "name": "stdout",
     "output_type": "stream",
     "text": [
      "5\n",
      "6\n",
      "5\n",
      "2\n",
      "2.5\n",
      "1.0\n",
      "1.0\n",
      "0\n",
      "5\n",
      "5\n",
      "8\n",
      "2\n",
      "0b110111\n",
      "0b1010\n"
     ]
    },
    {
     "data": {
      "text/plain": [
       "'0b10'"
      ]
     },
     "execution_count": 12,
     "metadata": {},
     "output_type": "execute_result"
    }
   ],
   "source": [
    "x, y = 4, 1\n",
    "x = x + y\n",
    "print(x)  # Output: 5\n",
    "x += y\n",
    "print(x)  # Output: 6\n",
    "x -= y\n",
    "print(x)  # Output: 5\n",
    "y *= 2  \n",
    "print(y) # Output: 2\n",
    "x /= y\n",
    "print(x)  # Output: 2.5\n",
    "x //= y\n",
    "print(x)  # Output: 2.0\n",
    "x %= y\n",
    "print(x)  # Output: 0.0\n",
    "x = 4  # em binário: 0b0100\n",
    "y = 1  # em binário: 0b0001\n",
    "x &= y\n",
    "print(x)  # Output: 0 (em binário: 0b0000\n",
    "x = 4  # em binário: 0b0100\n",
    "y = 1  # em binário: 0b0001\n",
    "x |= y\n",
    "print(x)  # Output: 5 (em binário: 0b0101\n",
    "x = 4  # em binário: 0b0100\n",
    "y = 1  # em binário: 0b0001\n",
    "x ^= y\n",
    "print(x)  # Output: 5 (em binário: 0b0101\n",
    "x = 4  # em binário: 0b0100\n",
    "x <<= 1\n",
    "print(x)  # Output: 8 (em binário: 0b1000\n",
    "x = 4  # em binário: 0b0100\n",
    "x >>= 1\n",
    "print(x)  # Output: 2 (em binário: 0b0010\n",
    "# atenção ao bit de sinal em números negativos\n",
    "x = 55\n",
    "print(bin(x)) # Output: 0b110111\n",
    "y = 10\n",
    "print(bin(y)) # Output: 0b1010\n",
    "x &= y   # 0b000010\n",
    "x\n",
    "bin(x)\n"
   ]
  }
 ],
 "metadata": {
  "kernelspec": {
   "display_name": "Python 3",
   "language": "python",
   "name": "python3"
  },
  "language_info": {
   "codemirror_mode": {
    "name": "ipython",
    "version": 3
   },
   "file_extension": ".py",
   "mimetype": "text/x-python",
   "name": "python",
   "nbconvert_exporter": "python",
   "pygments_lexer": "ipython3",
   "version": "3.14.0"
  }
 },
 "nbformat": 4,
 "nbformat_minor": 5
}
