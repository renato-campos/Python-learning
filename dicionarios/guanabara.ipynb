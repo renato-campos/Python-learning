{
 "cells": [
  {
   "cell_type": "code",
   "execution_count": 16,
   "metadata": {},
   "outputs": [
    {
     "name": "stdout",
     "output_type": "stream",
     "text": [
      "['Pedro']\n",
      "['Pedro', 25]\n",
      "Pedro\n",
      "25\n"
     ]
    }
   ],
   "source": [
    "dados = []\n",
    "dados.append('Pedro')\n",
    "print(dados)\n",
    "dados.append(25)\n",
    "print(dados)\n",
    "print(dados[0])\n",
    "print(dados[1])"
   ]
  },
  {
   "cell_type": "code",
   "execution_count": 17,
   "metadata": {},
   "outputs": [
    {
     "name": "stdout",
     "output_type": "stream",
     "text": [
      "{'nome': 'Pedro', 'idade': 25}\n",
      "Pedro\n",
      "25\n",
      "{'nome': 'Pedro', 'idade': 25, 'sexo': 'masculino'}\n",
      "masculino\n",
      "{'nome': 'Pedro', 'sexo': 'masculino'}\n"
     ]
    }
   ],
   "source": [
    "# criação\n",
    "dados={}\n",
    "#criando com dados\n",
    "dados={'nome':'Pedro', 'idade':25}\n",
    "#visualizando\n",
    "print(dados)\n",
    "print(dados['nome'])\n",
    "print(dados['idade'])\n",
    "# inclusão - não tem append\n",
    "dados['sexo']='masculino'\n",
    "print(dados)\n",
    "print(dados['sexo'])\n",
    "#exclusão\n",
    "del dados['idade']\n",
    "print(dados)"
   ]
  },
  {
   "cell_type": "code",
   "execution_count": 18,
   "metadata": {},
   "outputs": [
    {
     "name": "stdout",
     "output_type": "stream",
     "text": [
      "dict_values(['Star Wars', 1977, 'George Lucas'])\n",
      "dict_keys(['titulo', 'ano', 'diretor'])\n",
      "dict_items([('titulo', 'Star Wars'), ('ano', 1977), ('diretor', 'George Lucas')])\n"
     ]
    }
   ],
   "source": [
    "filme = {\n",
    "    'titulo':'Star Wars',\n",
    "    'ano':1977,\n",
    "    'diretor':'George Lucas'\n",
    "}\n",
    "print(filme.values())   # retorna os valores\n",
    "print(filme.keys())     # retorna as chaves\n",
    "print(filme.items())    # retorna tupla (key,value)(chave,valor)"
   ]
  },
  {
   "cell_type": "code",
   "execution_count": 19,
   "metadata": {},
   "outputs": [
    {
     "name": "stdout",
     "output_type": "stream",
     "text": [
      "titulo\n",
      "ano\n",
      "diretor\n",
      "titulo\n",
      "ano\n",
      "diretor\n",
      "Star Wars\n",
      "1977\n",
      "George Lucas\n",
      "titulo tem o valor Star Wars\n",
      "ano tem o valor 1977\n",
      "diretor tem o valor George Lucas\n"
     ]
    }
   ],
   "source": [
    "for k in filme:\n",
    "    print(k)\n",
    "for k in filme.keys():\n",
    "    print(k)\n",
    "for v in filme.values():\n",
    "    print(v)\n",
    "# ideal par uso em loops for de forma parecida ao enumerate das listas\n",
    "for k,v in filme.items():\n",
    "    print(k, 'tem o valor', v)"
   ]
  },
  {
   "cell_type": "code",
   "execution_count": 20,
   "metadata": {},
   "outputs": [
    {
     "data": {
      "text/plain": [
       "[{'titulo': 'Star Wars', 'ano': 1977, 'diretor': 'George Lucas'}]"
      ]
     },
     "execution_count": 20,
     "metadata": {},
     "output_type": "execute_result"
    }
   ],
   "source": [
    "# podes aninhar estruturas\n",
    "locadora = list()\n",
    "locadora.append(filme)\n",
    "locadora"
   ]
  },
  {
   "cell_type": "code",
   "execution_count": 21,
   "metadata": {},
   "outputs": [
    {
     "name": "stdout",
     "output_type": "stream",
     "text": [
      "[{'titulo': 'Star Wars', 'ano': 1977, 'diretor': 'George Lucas'}, {'titulo': 'Avengers', 'ano': 2012, 'diretor': 'Joss Whedon'}, {'titulo': 'Matrix', 'ano': 1999, 'diretor': 'Wachowski'}]\n",
      "{'titulo': 'Star Wars', 'ano': 1977, 'diretor': 'George Lucas'}\n",
      "1977\n",
      "Matrix\n"
     ]
    }
   ],
   "source": [
    "filme = {\n",
    "    'titulo':'Avengers',\n",
    "    'ano':2012,\n",
    "    'diretor':'Joss Whedon'\n",
    "}\n",
    "locadora.append(filme)\n",
    "filme = {\n",
    "    'titulo':'Matrix',\n",
    "    'ano':1999,\n",
    "    'diretor':'Wachowski'\n",
    "}\n",
    "locadora.append(filme)\n",
    "print(locadora)\n",
    "print(locadora[0])\n",
    "print(locadora[0]['ano'])\n",
    "print(locadora[2]['titulo'])"
   ]
  },
  {
   "cell_type": "code",
   "execution_count": 24,
   "metadata": {},
   "outputs": [
    {
     "ename": "KeyError",
     "evalue": "slice(None, None, None)",
     "output_type": "error",
     "traceback": [
      "\u001b[1;31m---------------------------------------------------------------------------\u001b[0m",
      "\u001b[1;31mKeyError\u001b[0m                                  Traceback (most recent call last)",
      "Cell \u001b[1;32mIn[24], line 6\u001b[0m\n\u001b[0;32m      4\u001b[0m     estado[\u001b[38;5;124m'\u001b[39m\u001b[38;5;124muf\u001b[39m\u001b[38;5;124m'\u001b[39m]\u001b[38;5;241m=\u001b[39m\u001b[38;5;28mstr\u001b[39m(\u001b[38;5;28minput\u001b[39m(\u001b[38;5;124m'\u001b[39m\u001b[38;5;124munidade federativa: \u001b[39m\u001b[38;5;124m'\u001b[39m))\n\u001b[0;32m      5\u001b[0m     estado[\u001b[38;5;124m'\u001b[39m\u001b[38;5;124msigla\u001b[39m\u001b[38;5;124m'\u001b[39m]\u001b[38;5;241m=\u001b[39m\u001b[38;5;28mstr\u001b[39m(\u001b[38;5;28minput\u001b[39m(\u001b[38;5;124m'\u001b[39m\u001b[38;5;124msigla do estado: \u001b[39m\u001b[38;5;124m'\u001b[39m))\n\u001b[1;32m----> 6\u001b[0m     brasil\u001b[38;5;241m.\u001b[39mappend(\u001b[43mestado\u001b[49m\u001b[43m[\u001b[49m\u001b[43m:\u001b[49m\u001b[43m]\u001b[49m)\n\u001b[0;32m      7\u001b[0m brasil\n",
      "\u001b[1;31mKeyError\u001b[0m: slice(None, None, None)"
     ]
    }
   ],
   "source": [
    "estado={}\n",
    "brasil=[]\n",
    "for c in range(3):\n",
    "    estado['uf']=str(input('unidade federativa: '))\n",
    "    estado['sigla']=str(input('sigla do estado: '))\n",
    "    brasil.append(estado.copy())    # dict não aceita cópia por slice [:]\n",
    "brasil"
   ]
  },
  {
   "cell_type": "code",
   "execution_count": 29,
   "metadata": {},
   "outputs": [
    {
     "name": "stdout",
     "output_type": "stream",
     "text": [
      "nome é igual a José\n",
      "media é igual a 6.9\n",
      "situacao é igual a recuperação\n"
     ]
    }
   ],
   "source": [
    "aluno = {}\n",
    "aluno['nome'] = str(input('nome do aluno: '))\n",
    "aluno['media'] = float(input(f'média do {aluno['nome']}: '))\n",
    "aluno['situacao'] = 'aprovado' if aluno['media'] >= 7.0 else 'recuperação'\n",
    "\n",
    "for k,v in aluno.items():\n",
    "    print(f'{k} é igual a {v}')"
   ]
  },
  {
   "cell_type": "code",
   "execution_count": 6,
   "metadata": {},
   "outputs": [
    {
     "name": "stdout",
     "output_type": "stream",
     "text": [
      "O Jogador 1 tirou 1\n",
      "O Jogador 2 tirou 3\n",
      "O Jogador 3 tirou 4\n",
      "O Jogador 4 tirou 2\n",
      "\n",
      " ******************************************************************************** \n",
      "\n",
      "O 1º colocado: Jogador 3 com 4\n",
      "O 2º colocado: Jogador 2 com 3\n",
      "O 3º colocado: Jogador 4 com 2\n",
      "O 4º colocado: Jogador 1 com 1\n"
     ]
    }
   ],
   "source": [
    "from random import randint\n",
    "from time import sleep\n",
    "from operator import itemgetter\n",
    "\n",
    "jogadores={}\n",
    "for i in range(1,5):\n",
    "    jogadores[f'Jogador {i}'] = randint(1,6)\n",
    "for k,v in jogadores.items():\n",
    "    print(f'O {k} tirou {v}')\n",
    "    sleep(0.5)\n",
    "# não ha ordenação em dicionários\n",
    "ranking = sorted(jogadores.items(), key=itemgetter(1), reverse=True)\n",
    "print('\\n', '*'*50, '\\n')\n",
    "for j,d in enumerate(ranking):\n",
    "    print(f'O {j+1}º colocado: {d[0]} com {d[1]}')\n",
    "    sleep(0.3)"
   ]
  },
  {
   "cell_type": "code",
   "execution_count": 8,
   "metadata": {},
   "outputs": [
    {
     "name": "stdout",
     "output_type": "stream",
     "text": [
      "-=-=-=-=-=-=-=-=-=-=-=-=-=-=-=-=-=-=-=-=-=-=-=-=-=-=-=-=-=-=\n",
      "nome tem o valor Renato\n",
      "idade tem o valor 51\n",
      "ctps tem o valor 1111\n",
      "ano_contrato tem o valor 1993\n",
      "salario tem o valor 850.0\n",
      "aposentadoria tem o valor 50\n"
     ]
    }
   ],
   "source": [
    "from datetime import datetime\n",
    "funcionario = {}\n",
    "funcionario['nome']=str(input('Nome do funcionário: '))\n",
    "nasc = int(input('Ano de nascimento: '))\n",
    "funcionario['idade']=datetime.today().year - nasc\n",
    "funcionario['ctps']=str(input('Carteira de trabalho [0 se não possui]: '))\n",
    "if funcionario['ctps'] != 0:\n",
    "    funcionario['ano_contrato'] = int(input('Ano de contratação: '))\n",
    "    funcionario['salario'] = float(input('Salário: R$ '))\n",
    "    funcionario['aposentadoria'] = funcionario['ano_contrato'] - nasc + 30\n",
    "print('-=' * 30)\n",
    "for k,v in funcionario.items():\n",
    "    print(f'{k} tem o valor {v}')"
   ]
  },
  {
   "cell_type": "code",
   "execution_count": 9,
   "metadata": {},
   "outputs": [
    {
     "name": "stdout",
     "output_type": "stream",
     "text": [
      "-=-=-=-=-=-=-=-=-=-=-=-=-=-=-=-=-=-=-=-=-=-=-=-=-=-=-=-=-=-=\n",
      "{'nome': 'Zico', 'gols': [1, 0, 2, 3, 1], 'total': 7}\n",
      "-=-=-=-=-=-=-=-=-=-=-=-=-=-=-=-=-=-=-=-=-=-=-=-=-=-=-=-=-=-=\n",
      "O campo nome tem valor Zico\n",
      "O campo gols tem valor [1, 0, 2, 3, 1]\n",
      "O campo total tem valor 7\n",
      "-=-=-=-=-=-=-=-=-=-=-=-=-=-=-=-=-=-=-=-=-=-=-=-=-=-=-=-=-=-=\n",
      "O jogador Zico jogou 5\n",
      "   => na partida 0, fez 1 gols.\n",
      "   => na partida 1, fez 0 gols.\n",
      "   => na partida 2, fez 2 gols.\n",
      "   => na partida 3, fez 3 gols.\n",
      "   => na partida 4, fez 1 gols.\n",
      "Sendo um total de 7 gols\n"
     ]
    }
   ],
   "source": [
    "jogador = {}\n",
    "jogador['nome'] = str(input('Nome do jogador: '))\n",
    "gols = []\n",
    "for p in range(int(input(f'Quantas partidas {jogador[\"nome\"]} jogou: '))):\n",
    "    score = int(input(f'Quantos gols na partida {p+1}: '))\n",
    "    gols.append(score)\n",
    "jogador['gols']=gols\n",
    "jogador['total']=sum(gols)\n",
    "print('-='*30)\n",
    "print(jogador)\n",
    "print('-='*30)\n",
    "for k, v in jogador.items():\n",
    "    print(f'O campo {k} tem valor {v}')\n",
    "print('-='*30)\n",
    "print(f'O jogador {jogador[\"nome\"]} jogou {len(jogador[\"gols\"])} partidas.')\n",
    "for i,g in enumerate(jogador['gols']):\n",
    "    print(f'   => na partida {i}, fez {g} gols.')\n",
    "print(f'Sendo um total de {jogador[\"total\"]} gols')"
   ]
  },
  {
   "cell_type": "code",
   "execution_count": null,
   "metadata": {},
   "outputs": [],
   "source": []
  }
 ],
 "metadata": {
  "kernelspec": {
   "display_name": "Python 3",
   "language": "python",
   "name": "python3"
  },
  "language_info": {
   "codemirror_mode": {
    "name": "ipython",
    "version": 3
   },
   "file_extension": ".py",
   "mimetype": "text/x-python",
   "name": "python",
   "nbconvert_exporter": "python",
   "pygments_lexer": "ipython3",
   "version": "3.12.4"
  }
 },
 "nbformat": 4,
 "nbformat_minor": 2
}
