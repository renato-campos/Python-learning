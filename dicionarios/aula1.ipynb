{
 "cells": [
  {
   "cell_type": "code",
   "execution_count": 1,
   "metadata": {},
   "outputs": [],
   "source": [
    "# Criando um dicionário vazio\n",
    "dicionario_vazio = {}\n",
    "\n",
    "# Criando um dicionário com pares de chave-valor\n",
    "dicionario = {\"nome\": \"Alice\", \"idade\": 25, \"cidade\": \"São Paulo\"}\n"
   ]
  },
  {
   "cell_type": "code",
   "execution_count": 2,
   "metadata": {},
   "outputs": [
    {
     "name": "stdout",
     "output_type": "stream",
     "text": [
      "Alice\n",
      "25\n",
      "Não encontrado\n"
     ]
    }
   ],
   "source": [
    "# Acessando um valor\n",
    "print(dicionario[\"nome\"])  # Saída: Alice\n",
    "\n",
    "# Usando o método get\n",
    "print(dicionario.get(\"idade\"))  # Saída: 25\n",
    "\n",
    "# Se a chave não existe, `get()` retorna None (ou um valor padrão, se especificado)\n",
    "print(dicionario.get(\"país\", \"Não encontrado\"))  # Saída: Não encontrado\n"
   ]
  },
  {
   "cell_type": "code",
   "execution_count": 3,
   "metadata": {},
   "outputs": [
    {
     "name": "stdout",
     "output_type": "stream",
     "text": [
      "{'nome': 'Alice', 'idade': 26, 'cidade': 'São Paulo', 'profissão': 'Engenheira'}\n"
     ]
    }
   ],
   "source": [
    "# Alterando um valor\n",
    "dicionario[\"idade\"] = 26\n",
    "\n",
    "# Adicionando um novo par chave-valor\n",
    "dicionario[\"profissão\"] = \"Engenheira\"\n",
    "\n",
    "print(dicionario)\n",
    "# Saída: {'nome': 'Alice', 'idade': 26, 'cidade': 'São Paulo', 'profissão': 'Engenheira'}\n"
   ]
  },
  {
   "cell_type": "code",
   "execution_count": 4,
   "metadata": {},
   "outputs": [
    {
     "name": "stdout",
     "output_type": "stream",
     "text": [
      "26\n"
     ]
    },
    {
     "data": {
      "text/plain": [
       "{'nome': 'Alice', 'cidade': 'São Paulo', 'profissão': 'Engenheira'}"
      ]
     },
     "execution_count": 4,
     "metadata": {},
     "output_type": "execute_result"
    }
   ],
   "source": [
    "# Removendo um item com pop\n",
    "idade = dicionario.pop(\"idade\")\n",
    "print(idade)  # Saída: 25\n",
    "dicionario\n"
   ]
  },
  {
   "cell_type": "code",
   "execution_count": 5,
   "metadata": {},
   "outputs": [
    {
     "name": "stdout",
     "output_type": "stream",
     "text": [
      "('profissão', 'Engenheira')\n"
     ]
    },
    {
     "data": {
      "text/plain": [
       "{'nome': 'Alice', 'cidade': 'São Paulo'}"
      ]
     },
     "execution_count": 5,
     "metadata": {},
     "output_type": "execute_result"
    }
   ],
   "source": [
    "# Removendo o último item com popitem\n",
    "ultimo_item = dicionario.popitem()\n",
    "print(ultimo_item)  # Saída: ('profissão', 'Engenheira')\n",
    "dicionario\n"
   ]
  },
  {
   "cell_type": "code",
   "execution_count": 6,
   "metadata": {},
   "outputs": [
    {
     "data": {
      "text/plain": [
       "{'nome': 'Alice'}"
      ]
     },
     "execution_count": 6,
     "metadata": {},
     "output_type": "execute_result"
    }
   ],
   "source": [
    "# Removendo um item com del\n",
    "del dicionario[\"cidade\"]\n",
    "dicionario"
   ]
  },
  {
   "cell_type": "code",
   "execution_count": 7,
   "metadata": {},
   "outputs": [
    {
     "data": {
      "text/plain": [
       "{}"
      ]
     },
     "execution_count": 7,
     "metadata": {},
     "output_type": "execute_result"
    }
   ],
   "source": [
    "# Limpando o dicionário\n",
    "dicionario.clear()\n",
    "dicionario"
   ]
  },
  {
   "cell_type": "code",
   "execution_count": 8,
   "metadata": {},
   "outputs": [
    {
     "name": "stdout",
     "output_type": "stream",
     "text": [
      "nome\n",
      "idade\n",
      "cidade\n",
      "Alice\n",
      "25\n",
      "São Paulo\n",
      "nome: Alice\n",
      "idade: 25\n",
      "cidade: São Paulo\n"
     ]
    }
   ],
   "source": [
    "dicionario = {\"nome\": \"Alice\", \"idade\": 25, \"cidade\": \"São Paulo\"}\n",
    "\n",
    "# Iterando sobre as chaves\n",
    "for chave in dicionario:\n",
    "    print(chave)\n",
    "\n",
    "# Iterando sobre os valores\n",
    "for valor in dicionario.values():\n",
    "    print(valor)\n",
    "\n",
    "# Iterando sobre pares chave-valor\n",
    "for chave, valor in dicionario.items():\n",
    "    print(f\"{chave}: {valor}\")\n"
   ]
  },
  {
   "cell_type": "code",
   "execution_count": 9,
   "metadata": {},
   "outputs": [],
   "source": [
    "# Exemplo de update\n",
    "novo_dicionario = {\"pais\": \"Brasil\"}\n",
    "dicionario.update(novo_dicionario)\n",
    "\n",
    "# Exemplo de copy\n",
    "dicionario_copia = dicionario.copy()\n"
   ]
  },
  {
   "cell_type": "code",
   "execution_count": 10,
   "metadata": {},
   "outputs": [
    {
     "data": {
      "text/plain": [
       "{'nome': 'Alice', 'idade': 25, 'cidade': 'São Paulo', 'pais': 'Brasil'}"
      ]
     },
     "execution_count": 10,
     "metadata": {},
     "output_type": "execute_result"
    }
   ],
   "source": [
    "#dicionario\n",
    "dicionario_copia"
   ]
  },
  {
   "cell_type": "code",
   "execution_count": 11,
   "metadata": {},
   "outputs": [
    {
     "name": "stdout",
     "output_type": "stream",
     "text": [
      "Engenharia\n"
     ]
    }
   ],
   "source": [
    "# Dicionário aninhado\n",
    "alunos = {\n",
    "    \"Alice\": {\"idade\": 25, \"curso\": \"Engenharia\"},\n",
    "    \"Bob\": {\"idade\": 22, \"curso\": \"Matemática\"}\n",
    "}\n",
    "\n",
    "# Acessando valores em dicionários aninhados\n",
    "print(alunos[\"Alice\"][\"curso\"])  # Saída: Engenharia\n"
   ]
  },
  {
   "cell_type": "code",
   "execution_count": 12,
   "metadata": {},
   "outputs": [
    {
     "name": "stdout",
     "output_type": "stream",
     "text": [
      "True\n"
     ]
    }
   ],
   "source": [
    "d1 = {\"a\": 1, \"b\": 2}\n",
    "d2 = {\"b\": 2, \"a\": 1}\n",
    "\n",
    "print(d1 == d2)  # Saída: True\n"
   ]
  },
  {
   "cell_type": "code",
   "execution_count": 13,
   "metadata": {},
   "outputs": [
    {
     "ename": "TypeError",
     "evalue": "unhashable type: 'list'",
     "output_type": "error",
     "traceback": [
      "\u001b[1;31m---------------------------------------------------------------------------\u001b[0m",
      "\u001b[1;31mTypeError\u001b[0m                                 Traceback (most recent call last)",
      "Cell \u001b[1;32mIn[13], line 5\u001b[0m\n\u001b[0;32m      2\u001b[0m d \u001b[38;5;241m=\u001b[39m {\u001b[38;5;241m1\u001b[39m: \u001b[38;5;124m\"\u001b[39m\u001b[38;5;124mum\u001b[39m\u001b[38;5;124m\"\u001b[39m, \u001b[38;5;124m\"\u001b[39m\u001b[38;5;124mdois\u001b[39m\u001b[38;5;124m\"\u001b[39m: \u001b[38;5;241m2\u001b[39m, (\u001b[38;5;241m3\u001b[39m, \u001b[38;5;241m4\u001b[39m): \u001b[38;5;124m\"\u001b[39m\u001b[38;5;124mtrês e quatro\u001b[39m\u001b[38;5;124m\"\u001b[39m}\n\u001b[0;32m      4\u001b[0m \u001b[38;5;66;03m# Chaves inválidas\u001b[39;00m\n\u001b[1;32m----> 5\u001b[0m d \u001b[38;5;241m=\u001b[39m {[\u001b[38;5;241m1\u001b[39m, \u001b[38;5;241m2\u001b[39m]: \u001b[38;5;124m\"\u001b[39m\u001b[38;5;124mlista\u001b[39m\u001b[38;5;124m\"\u001b[39m}  \u001b[38;5;66;03m# Gera erro, pois listas são mutáveis\u001b[39;00m\n",
      "\u001b[1;31mTypeError\u001b[0m: unhashable type: 'list'"
     ]
    }
   ],
   "source": [
    "# Chaves válidas\n",
    "d = {1: \"um\", \"dois\": 2, (3, 4): \"três e quatro\"}\n",
    "\n",
    "# Chaves inválidas\n",
    "d = {[1, 2]: \"lista\"}  # Gera erro, pois listas são mutáveis\n"
   ]
  }
 ],
 "metadata": {
  "kernelspec": {
   "display_name": "Python 3",
   "language": "python",
   "name": "python3"
  },
  "language_info": {
   "codemirror_mode": {
    "name": "ipython",
    "version": 3
   },
   "file_extension": ".py",
   "mimetype": "text/x-python",
   "name": "python",
   "nbconvert_exporter": "python",
   "pygments_lexer": "ipython3",
   "version": "3.12.4"
  }
 },
 "nbformat": 4,
 "nbformat_minor": 2
}
